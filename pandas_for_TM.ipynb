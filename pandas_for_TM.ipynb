{
 "cells": [
  {
   "cell_type": "markdown",
   "id": "8718406d",
   "metadata": {},
   "source": [
    "<h1><center> Time series management with pandas </center></h1>"
   ]
  },
  {
   "cell_type": "code",
   "execution_count": 1,
   "id": "ae281bc6",
   "metadata": {},
   "outputs": [],
   "source": [
    "import pandas as pd # for data managment\n",
    "from datetime import datetime, timedelta # for time\n",
    "import random # for random elements\n",
    "import numpy as np # for scientific calculus"
   ]
  },
  {
   "cell_type": "code",
   "execution_count": 2,
   "id": "8eee4961",
   "metadata": {},
   "outputs": [],
   "source": [
    "my_year = 2023\n",
    "my_month = 6\n",
    "my_day = 21\n",
    "my_hour =5\n",
    "my_minute = 21\n",
    "my_second = 40"
   ]
  },
  {
   "cell_type": "code",
   "execution_count": 3,
   "id": "53654e3e",
   "metadata": {},
   "outputs": [
    {
     "data": {
      "text/plain": [
       "datetime.datetime(2023, 6, 21, 5, 21, 40)"
      ]
     },
     "execution_count": 3,
     "metadata": {},
     "output_type": "execute_result"
    }
   ],
   "source": [
    "my_date = datetime(my_year,my_month,my_day,my_hour,my_minute,my_second)\n",
    "my_date"
   ]
  },
  {
   "cell_type": "markdown",
   "id": "6f9cae13",
   "metadata": {},
   "source": [
    "###### We can axtract all that we need on this date format. For example, we have"
   ]
  },
  {
   "cell_type": "code",
   "execution_count": 4,
   "id": "c768bb11",
   "metadata": {},
   "outputs": [
    {
     "data": {
      "text/plain": [
       "5"
      ]
     },
     "execution_count": 4,
     "metadata": {},
     "output_type": "execute_result"
    }
   ],
   "source": [
    "my_hour_extracted = my_date.hour\n",
    "my_hour_extracted"
   ]
  },
  {
   "cell_type": "code",
   "execution_count": 5,
   "id": "2bd32812",
   "metadata": {},
   "outputs": [
    {
     "data": {
      "text/plain": [
       "2023"
      ]
     },
     "execution_count": 5,
     "metadata": {},
     "output_type": "execute_result"
    }
   ],
   "source": [
    "my_year_extracted = my_date.year\n",
    "my_year_extracted"
   ]
  },
  {
   "cell_type": "code",
   "execution_count": 6,
   "id": "d323293c",
   "metadata": {},
   "outputs": [
    {
     "data": {
      "text/plain": [
       "40"
      ]
     },
     "execution_count": 6,
     "metadata": {},
     "output_type": "execute_result"
    }
   ],
   "source": [
    "my_second_extracted = my_date.second\n",
    "my_second_extracted"
   ]
  },
  {
   "cell_type": "markdown",
   "id": "2c97deb0",
   "metadata": {},
   "source": [
    "###### We can print the currently date by:"
   ]
  },
  {
   "cell_type": "code",
   "execution_count": 7,
   "id": "bba73a23",
   "metadata": {},
   "outputs": [
    {
     "data": {
      "text/plain": [
       "datetime.datetime(2023, 6, 22, 3, 31, 21, 788384)"
      ]
     },
     "execution_count": 7,
     "metadata": {},
     "output_type": "execute_result"
    }
   ],
   "source": [
    "date_actuelle = datetime.now()\n",
    "date_actuelle"
   ]
  },
  {
   "cell_type": "markdown",
   "id": "1d6db83c",
   "metadata": {},
   "source": [
    "###### Pandas index datetime"
   ]
  },
  {
   "cell_type": "code",
   "execution_count": 8,
   "id": "cd941786",
   "metadata": {},
   "outputs": [],
   "source": [
    "list_day = [datetime(2023, 6, 21), datetime(2023, 6, 22), datetime(2023,6,23), datetime(2023,6,24)]"
   ]
  },
  {
   "cell_type": "markdown",
   "id": "2a58e586",
   "metadata": {},
   "source": [
    "We can convert this list to a time series index by doing"
   ]
  },
  {
   "cell_type": "code",
   "execution_count": 9,
   "id": "933901bc",
   "metadata": {},
   "outputs": [
    {
     "data": {
      "text/plain": [
       "DatetimeIndex(['2023-06-21', '2023-06-22', '2023-06-23', '2023-06-24'], dtype='datetime64[ns]', freq=None)"
      ]
     },
     "execution_count": 9,
     "metadata": {},
     "output_type": "execute_result"
    }
   ],
   "source": [
    "ts_index = pd.DatetimeIndex(list_day)\n",
    "ts_index"
   ]
  },
  {
   "cell_type": "markdown",
   "id": "451f6eca",
   "metadata": {},
   "source": [
    "We can easily create a dataframe "
   ]
  },
  {
   "cell_type": "code",
   "execution_count": 10,
   "id": "ec18443f",
   "metadata": {},
   "outputs": [
    {
     "data": {
      "text/html": [
       "<div>\n",
       "<style scoped>\n",
       "    .dataframe tbody tr th:only-of-type {\n",
       "        vertical-align: middle;\n",
       "    }\n",
       "\n",
       "    .dataframe tbody tr th {\n",
       "        vertical-align: top;\n",
       "    }\n",
       "\n",
       "    .dataframe thead th {\n",
       "        text-align: right;\n",
       "    }\n",
       "</style>\n",
       "<table border=\"1\" class=\"dataframe\">\n",
       "  <thead>\n",
       "    <tr style=\"text-align: right;\">\n",
       "      <th></th>\n",
       "      <th>column_one</th>\n",
       "      <th>column_two</th>\n",
       "      <th>column_three</th>\n",
       "    </tr>\n",
       "  </thead>\n",
       "  <tbody>\n",
       "    <tr>\n",
       "      <th>2023-06-21</th>\n",
       "      <td>-1.625110</td>\n",
       "      <td>-0.682271</td>\n",
       "      <td>-0.050408</td>\n",
       "    </tr>\n",
       "    <tr>\n",
       "      <th>2023-06-22</th>\n",
       "      <td>-0.136939</td>\n",
       "      <td>0.216271</td>\n",
       "      <td>1.414175</td>\n",
       "    </tr>\n",
       "    <tr>\n",
       "      <th>2023-06-23</th>\n",
       "      <td>-0.066051</td>\n",
       "      <td>-0.472884</td>\n",
       "      <td>0.271820</td>\n",
       "    </tr>\n",
       "    <tr>\n",
       "      <th>2023-06-24</th>\n",
       "      <td>-1.764925</td>\n",
       "      <td>0.281350</td>\n",
       "      <td>-0.136794</td>\n",
       "    </tr>\n",
       "  </tbody>\n",
       "</table>\n",
       "</div>"
      ],
      "text/plain": [
       "            column_one  column_two  column_three\n",
       "2023-06-21   -1.625110   -0.682271     -0.050408\n",
       "2023-06-22   -0.136939    0.216271      1.414175\n",
       "2023-06-23   -0.066051   -0.472884      0.271820\n",
       "2023-06-24   -1.764925    0.281350     -0.136794"
      ]
     },
     "execution_count": 10,
     "metadata": {},
     "output_type": "execute_result"
    }
   ],
   "source": [
    "data = np.random.randn(4,3)\n",
    "cols = ['column_one', 'column_two','column_three']\n",
    "df = pd.DataFrame(data,ts_index,cols)\n",
    "df.head()"
   ]
  },
  {
   "cell_type": "markdown",
   "id": "2c49ff79",
   "metadata": {},
   "source": [
    "We can use the argmax and argmin function to give the location of the oldest and t the most recent dates"
   ]
  },
  {
   "cell_type": "code",
   "execution_count": 11,
   "id": "065a89f2",
   "metadata": {},
   "outputs": [
    {
     "data": {
      "text/plain": [
       "3"
      ]
     },
     "execution_count": 11,
     "metadata": {},
     "output_type": "execute_result"
    }
   ],
   "source": [
    "recent_date = df.index.argmax()\n",
    "recent_date"
   ]
  },
  {
   "cell_type": "code",
   "execution_count": 12,
   "id": "5c413c1c",
   "metadata": {},
   "outputs": [
    {
     "data": {
      "text/plain": [
       "Timestamp('2023-06-24 00:00:00')"
      ]
     },
     "execution_count": 12,
     "metadata": {},
     "output_type": "execute_result"
    }
   ],
   "source": [
    "df.index.max()"
   ]
  },
  {
   "cell_type": "code",
   "execution_count": 13,
   "id": "d4b56cdf",
   "metadata": {},
   "outputs": [
    {
     "data": {
      "text/plain": [
       "0"
      ]
     },
     "execution_count": 13,
     "metadata": {},
     "output_type": "execute_result"
    }
   ],
   "source": [
    "old_date = df.index.argmin()\n",
    "old_date"
   ]
  },
  {
   "cell_type": "code",
   "execution_count": 14,
   "id": "0ffe47be",
   "metadata": {},
   "outputs": [
    {
     "data": {
      "text/plain": [
       "Timestamp('2023-06-21 00:00:00')"
      ]
     },
     "execution_count": 14,
     "metadata": {},
     "output_type": "execute_result"
    }
   ],
   "source": [
    "df.index.min()"
   ]
  },
  {
   "cell_type": "markdown",
   "id": "7503f3de",
   "metadata": {},
   "source": [
    "<h1><center> Shift using real data </center></h1>"
   ]
  },
  {
   "cell_type": "code",
   "execution_count": 15,
   "id": "602cecb6",
   "metadata": {},
   "outputs": [],
   "source": [
    "#pip install pandas_datareader"
   ]
  },
  {
   "cell_type": "code",
   "execution_count": 16,
   "id": "4a4b210d",
   "metadata": {},
   "outputs": [],
   "source": [
    "#pip install --upgrade pandas_datareader"
   ]
  },
  {
   "cell_type": "code",
   "execution_count": 17,
   "id": "760ee357",
   "metadata": {},
   "outputs": [],
   "source": [
    "#pip install --upgrade pandas"
   ]
  },
  {
   "cell_type": "code",
   "execution_count": 18,
   "id": "428c05c2",
   "metadata": {},
   "outputs": [],
   "source": [
    "#pip install yfinance"
   ]
  },
  {
   "cell_type": "code",
   "execution_count": 19,
   "id": "2a23aa25",
   "metadata": {},
   "outputs": [],
   "source": [
    "import pandas_datareader.data as pdr"
   ]
  },
  {
   "cell_type": "code",
   "execution_count": 20,
   "id": "4f012457",
   "metadata": {},
   "outputs": [
    {
     "name": "stdout",
     "output_type": "stream",
     "text": [
      "[*********************100%***********************]  1 of 1 completed\n"
     ]
    }
   ],
   "source": [
    "import yfinance as yf\n",
    "\n",
    "start_date = \"2021-01-01\"\n",
    "end_date = \"2023-06-30\"\n",
    "\n",
    "bitcoin = yf.download('BTC-USD', start=start_date, end=end_date)"
   ]
  },
  {
   "cell_type": "code",
   "execution_count": 21,
   "id": "2fe3628e",
   "metadata": {},
   "outputs": [
    {
     "data": {
      "text/html": [
       "<div>\n",
       "<style scoped>\n",
       "    .dataframe tbody tr th:only-of-type {\n",
       "        vertical-align: middle;\n",
       "    }\n",
       "\n",
       "    .dataframe tbody tr th {\n",
       "        vertical-align: top;\n",
       "    }\n",
       "\n",
       "    .dataframe thead th {\n",
       "        text-align: right;\n",
       "    }\n",
       "</style>\n",
       "<table border=\"1\" class=\"dataframe\">\n",
       "  <thead>\n",
       "    <tr style=\"text-align: right;\">\n",
       "      <th></th>\n",
       "      <th>Open</th>\n",
       "      <th>High</th>\n",
       "      <th>Low</th>\n",
       "      <th>Close</th>\n",
       "      <th>Adj Close</th>\n",
       "      <th>Volume</th>\n",
       "    </tr>\n",
       "    <tr>\n",
       "      <th>Date</th>\n",
       "      <th></th>\n",
       "      <th></th>\n",
       "      <th></th>\n",
       "      <th></th>\n",
       "      <th></th>\n",
       "      <th></th>\n",
       "    </tr>\n",
       "  </thead>\n",
       "  <tbody>\n",
       "    <tr>\n",
       "      <th>2021-01-01</th>\n",
       "      <td>28994.009766</td>\n",
       "      <td>29600.626953</td>\n",
       "      <td>28803.585938</td>\n",
       "      <td>29374.152344</td>\n",
       "      <td>29374.152344</td>\n",
       "      <td>40730301359</td>\n",
       "    </tr>\n",
       "    <tr>\n",
       "      <th>2021-01-02</th>\n",
       "      <td>29376.455078</td>\n",
       "      <td>33155.117188</td>\n",
       "      <td>29091.181641</td>\n",
       "      <td>32127.267578</td>\n",
       "      <td>32127.267578</td>\n",
       "      <td>67865420765</td>\n",
       "    </tr>\n",
       "    <tr>\n",
       "      <th>2021-01-03</th>\n",
       "      <td>32129.408203</td>\n",
       "      <td>34608.558594</td>\n",
       "      <td>32052.316406</td>\n",
       "      <td>32782.023438</td>\n",
       "      <td>32782.023438</td>\n",
       "      <td>78665235202</td>\n",
       "    </tr>\n",
       "    <tr>\n",
       "      <th>2021-01-04</th>\n",
       "      <td>32810.949219</td>\n",
       "      <td>33440.218750</td>\n",
       "      <td>28722.755859</td>\n",
       "      <td>31971.914062</td>\n",
       "      <td>31971.914062</td>\n",
       "      <td>81163475344</td>\n",
       "    </tr>\n",
       "    <tr>\n",
       "      <th>2021-01-05</th>\n",
       "      <td>31977.041016</td>\n",
       "      <td>34437.589844</td>\n",
       "      <td>30221.187500</td>\n",
       "      <td>33992.429688</td>\n",
       "      <td>33992.429688</td>\n",
       "      <td>67547324782</td>\n",
       "    </tr>\n",
       "  </tbody>\n",
       "</table>\n",
       "</div>"
      ],
      "text/plain": [
       "                    Open          High           Low         Close  \\\n",
       "Date                                                                 \n",
       "2021-01-01  28994.009766  29600.626953  28803.585938  29374.152344   \n",
       "2021-01-02  29376.455078  33155.117188  29091.181641  32127.267578   \n",
       "2021-01-03  32129.408203  34608.558594  32052.316406  32782.023438   \n",
       "2021-01-04  32810.949219  33440.218750  28722.755859  31971.914062   \n",
       "2021-01-05  31977.041016  34437.589844  30221.187500  33992.429688   \n",
       "\n",
       "               Adj Close       Volume  \n",
       "Date                                   \n",
       "2021-01-01  29374.152344  40730301359  \n",
       "2021-01-02  32127.267578  67865420765  \n",
       "2021-01-03  32782.023438  78665235202  \n",
       "2021-01-04  31971.914062  81163475344  \n",
       "2021-01-05  33992.429688  67547324782  "
      ]
     },
     "execution_count": 21,
     "metadata": {},
     "output_type": "execute_result"
    }
   ],
   "source": [
    "bitcoin.head() # to see the first five observations"
   ]
  },
  {
   "cell_type": "code",
   "execution_count": 22,
   "id": "734bf06d",
   "metadata": {},
   "outputs": [
    {
     "data": {
      "text/plain": [
       "(902, 6)"
      ]
     },
     "execution_count": 22,
     "metadata": {},
     "output_type": "execute_result"
    }
   ],
   "source": [
    "bitcoin.shape"
   ]
  },
  {
   "cell_type": "code",
   "execution_count": 23,
   "id": "cd490db1",
   "metadata": {},
   "outputs": [
    {
     "data": {
      "text/html": [
       "<div>\n",
       "<style scoped>\n",
       "    .dataframe tbody tr th:only-of-type {\n",
       "        vertical-align: middle;\n",
       "    }\n",
       "\n",
       "    .dataframe tbody tr th {\n",
       "        vertical-align: top;\n",
       "    }\n",
       "\n",
       "    .dataframe thead th {\n",
       "        text-align: right;\n",
       "    }\n",
       "</style>\n",
       "<table border=\"1\" class=\"dataframe\">\n",
       "  <thead>\n",
       "    <tr style=\"text-align: right;\">\n",
       "      <th></th>\n",
       "      <th>Open</th>\n",
       "      <th>High</th>\n",
       "      <th>Low</th>\n",
       "      <th>Close</th>\n",
       "      <th>Adj Close</th>\n",
       "      <th>Volume</th>\n",
       "    </tr>\n",
       "    <tr>\n",
       "      <th>Date</th>\n",
       "      <th></th>\n",
       "      <th></th>\n",
       "      <th></th>\n",
       "      <th></th>\n",
       "      <th></th>\n",
       "      <th></th>\n",
       "    </tr>\n",
       "  </thead>\n",
       "  <tbody>\n",
       "    <tr>\n",
       "      <th>2023-06-17</th>\n",
       "      <td>26328.679688</td>\n",
       "      <td>26769.394531</td>\n",
       "      <td>26174.492188</td>\n",
       "      <td>26510.675781</td>\n",
       "      <td>26510.675781</td>\n",
       "      <td>11090276850</td>\n",
       "    </tr>\n",
       "    <tr>\n",
       "      <th>2023-06-18</th>\n",
       "      <td>26510.457031</td>\n",
       "      <td>26675.925781</td>\n",
       "      <td>26325.890625</td>\n",
       "      <td>26336.212891</td>\n",
       "      <td>26336.212891</td>\n",
       "      <td>9565695129</td>\n",
       "    </tr>\n",
       "    <tr>\n",
       "      <th>2023-06-19</th>\n",
       "      <td>26335.441406</td>\n",
       "      <td>26984.611328</td>\n",
       "      <td>26312.832031</td>\n",
       "      <td>26851.029297</td>\n",
       "      <td>26851.029297</td>\n",
       "      <td>12826986222</td>\n",
       "    </tr>\n",
       "    <tr>\n",
       "      <th>2023-06-20</th>\n",
       "      <td>26841.664062</td>\n",
       "      <td>28388.968750</td>\n",
       "      <td>26668.791016</td>\n",
       "      <td>28327.488281</td>\n",
       "      <td>28327.488281</td>\n",
       "      <td>22211859147</td>\n",
       "    </tr>\n",
       "    <tr>\n",
       "      <th>2023-06-22</th>\n",
       "      <td>29976.873047</td>\n",
       "      <td>30219.085938</td>\n",
       "      <td>29933.816406</td>\n",
       "      <td>30181.556641</td>\n",
       "      <td>30181.556641</td>\n",
       "      <td>31753156608</td>\n",
       "    </tr>\n",
       "  </tbody>\n",
       "</table>\n",
       "</div>"
      ],
      "text/plain": [
       "                    Open          High           Low         Close  \\\n",
       "Date                                                                 \n",
       "2023-06-17  26328.679688  26769.394531  26174.492188  26510.675781   \n",
       "2023-06-18  26510.457031  26675.925781  26325.890625  26336.212891   \n",
       "2023-06-19  26335.441406  26984.611328  26312.832031  26851.029297   \n",
       "2023-06-20  26841.664062  28388.968750  26668.791016  28327.488281   \n",
       "2023-06-22  29976.873047  30219.085938  29933.816406  30181.556641   \n",
       "\n",
       "               Adj Close       Volume  \n",
       "Date                                   \n",
       "2023-06-17  26510.675781  11090276850  \n",
       "2023-06-18  26336.212891   9565695129  \n",
       "2023-06-19  26851.029297  12826986222  \n",
       "2023-06-20  28327.488281  22211859147  \n",
       "2023-06-22  30181.556641  31753156608  "
      ]
     },
     "execution_count": 23,
     "metadata": {},
     "output_type": "execute_result"
    }
   ],
   "source": [
    "bitcoin.tail() # To see the last five observations"
   ]
  },
  {
   "cell_type": "markdown",
   "id": "c817b828",
   "metadata": {},
   "source": [
    "###### Forward shift"
   ]
  },
  {
   "cell_type": "code",
   "execution_count": 24,
   "id": "d41f9777",
   "metadata": {},
   "outputs": [
    {
     "data": {
      "text/html": [
       "<div>\n",
       "<style scoped>\n",
       "    .dataframe tbody tr th:only-of-type {\n",
       "        vertical-align: middle;\n",
       "    }\n",
       "\n",
       "    .dataframe tbody tr th {\n",
       "        vertical-align: top;\n",
       "    }\n",
       "\n",
       "    .dataframe thead th {\n",
       "        text-align: right;\n",
       "    }\n",
       "</style>\n",
       "<table border=\"1\" class=\"dataframe\">\n",
       "  <thead>\n",
       "    <tr style=\"text-align: right;\">\n",
       "      <th></th>\n",
       "      <th>Open</th>\n",
       "      <th>High</th>\n",
       "      <th>Low</th>\n",
       "      <th>Close</th>\n",
       "      <th>Adj Close</th>\n",
       "      <th>Volume</th>\n",
       "    </tr>\n",
       "    <tr>\n",
       "      <th>Date</th>\n",
       "      <th></th>\n",
       "      <th></th>\n",
       "      <th></th>\n",
       "      <th></th>\n",
       "      <th></th>\n",
       "      <th></th>\n",
       "    </tr>\n",
       "  </thead>\n",
       "  <tbody>\n",
       "    <tr>\n",
       "      <th>2021-01-01</th>\n",
       "      <td>NaN</td>\n",
       "      <td>NaN</td>\n",
       "      <td>NaN</td>\n",
       "      <td>NaN</td>\n",
       "      <td>NaN</td>\n",
       "      <td>NaN</td>\n",
       "    </tr>\n",
       "    <tr>\n",
       "      <th>2021-01-02</th>\n",
       "      <td>28994.009766</td>\n",
       "      <td>29600.626953</td>\n",
       "      <td>28803.585938</td>\n",
       "      <td>29374.152344</td>\n",
       "      <td>29374.152344</td>\n",
       "      <td>4.073030e+10</td>\n",
       "    </tr>\n",
       "    <tr>\n",
       "      <th>2021-01-03</th>\n",
       "      <td>29376.455078</td>\n",
       "      <td>33155.117188</td>\n",
       "      <td>29091.181641</td>\n",
       "      <td>32127.267578</td>\n",
       "      <td>32127.267578</td>\n",
       "      <td>6.786542e+10</td>\n",
       "    </tr>\n",
       "  </tbody>\n",
       "</table>\n",
       "</div>"
      ],
      "text/plain": [
       "                    Open          High           Low         Close  \\\n",
       "Date                                                                 \n",
       "2021-01-01           NaN           NaN           NaN           NaN   \n",
       "2021-01-02  28994.009766  29600.626953  28803.585938  29374.152344   \n",
       "2021-01-03  29376.455078  33155.117188  29091.181641  32127.267578   \n",
       "\n",
       "               Adj Close        Volume  \n",
       "Date                                    \n",
       "2021-01-01           NaN           NaN  \n",
       "2021-01-02  29374.152344  4.073030e+10  \n",
       "2021-01-03  32127.267578  6.786542e+10  "
      ]
     },
     "execution_count": 24,
     "metadata": {},
     "output_type": "execute_result"
    }
   ],
   "source": [
    "bitcoin.shift(1).head(3)"
   ]
  },
  {
   "cell_type": "code",
   "execution_count": 25,
   "id": "40c040c0",
   "metadata": {},
   "outputs": [
    {
     "data": {
      "text/html": [
       "<div>\n",
       "<style scoped>\n",
       "    .dataframe tbody tr th:only-of-type {\n",
       "        vertical-align: middle;\n",
       "    }\n",
       "\n",
       "    .dataframe tbody tr th {\n",
       "        vertical-align: top;\n",
       "    }\n",
       "\n",
       "    .dataframe thead th {\n",
       "        text-align: right;\n",
       "    }\n",
       "</style>\n",
       "<table border=\"1\" class=\"dataframe\">\n",
       "  <thead>\n",
       "    <tr style=\"text-align: right;\">\n",
       "      <th></th>\n",
       "      <th>Open</th>\n",
       "      <th>High</th>\n",
       "      <th>Low</th>\n",
       "      <th>Close</th>\n",
       "      <th>Adj Close</th>\n",
       "      <th>Volume</th>\n",
       "    </tr>\n",
       "    <tr>\n",
       "      <th>Date</th>\n",
       "      <th></th>\n",
       "      <th></th>\n",
       "      <th></th>\n",
       "      <th></th>\n",
       "      <th></th>\n",
       "      <th></th>\n",
       "    </tr>\n",
       "  </thead>\n",
       "  <tbody>\n",
       "    <tr>\n",
       "      <th>2023-06-19</th>\n",
       "      <td>26510.457031</td>\n",
       "      <td>26675.925781</td>\n",
       "      <td>26325.890625</td>\n",
       "      <td>26336.212891</td>\n",
       "      <td>26336.212891</td>\n",
       "      <td>9.565695e+09</td>\n",
       "    </tr>\n",
       "    <tr>\n",
       "      <th>2023-06-20</th>\n",
       "      <td>26335.441406</td>\n",
       "      <td>26984.611328</td>\n",
       "      <td>26312.832031</td>\n",
       "      <td>26851.029297</td>\n",
       "      <td>26851.029297</td>\n",
       "      <td>1.282699e+10</td>\n",
       "    </tr>\n",
       "    <tr>\n",
       "      <th>2023-06-22</th>\n",
       "      <td>26841.664062</td>\n",
       "      <td>28388.968750</td>\n",
       "      <td>26668.791016</td>\n",
       "      <td>28327.488281</td>\n",
       "      <td>28327.488281</td>\n",
       "      <td>2.221186e+10</td>\n",
       "    </tr>\n",
       "  </tbody>\n",
       "</table>\n",
       "</div>"
      ],
      "text/plain": [
       "                    Open          High           Low         Close  \\\n",
       "Date                                                                 \n",
       "2023-06-19  26510.457031  26675.925781  26325.890625  26336.212891   \n",
       "2023-06-20  26335.441406  26984.611328  26312.832031  26851.029297   \n",
       "2023-06-22  26841.664062  28388.968750  26668.791016  28327.488281   \n",
       "\n",
       "               Adj Close        Volume  \n",
       "Date                                    \n",
       "2023-06-19  26336.212891  9.565695e+09  \n",
       "2023-06-20  26851.029297  1.282699e+10  \n",
       "2023-06-22  28327.488281  2.221186e+10  "
      ]
     },
     "execution_count": 25,
     "metadata": {},
     "output_type": "execute_result"
    }
   ],
   "source": [
    "bitcoin.shift(1).tail(3)"
   ]
  },
  {
   "cell_type": "markdown",
   "id": "3e3099fc",
   "metadata": {},
   "source": [
    "###### Backward shift"
   ]
  },
  {
   "cell_type": "code",
   "execution_count": 26,
   "id": "aa5fa906",
   "metadata": {},
   "outputs": [
    {
     "data": {
      "text/html": [
       "<div>\n",
       "<style scoped>\n",
       "    .dataframe tbody tr th:only-of-type {\n",
       "        vertical-align: middle;\n",
       "    }\n",
       "\n",
       "    .dataframe tbody tr th {\n",
       "        vertical-align: top;\n",
       "    }\n",
       "\n",
       "    .dataframe thead th {\n",
       "        text-align: right;\n",
       "    }\n",
       "</style>\n",
       "<table border=\"1\" class=\"dataframe\">\n",
       "  <thead>\n",
       "    <tr style=\"text-align: right;\">\n",
       "      <th></th>\n",
       "      <th>Open</th>\n",
       "      <th>High</th>\n",
       "      <th>Low</th>\n",
       "      <th>Close</th>\n",
       "      <th>Adj Close</th>\n",
       "      <th>Volume</th>\n",
       "    </tr>\n",
       "    <tr>\n",
       "      <th>Date</th>\n",
       "      <th></th>\n",
       "      <th></th>\n",
       "      <th></th>\n",
       "      <th></th>\n",
       "      <th></th>\n",
       "      <th></th>\n",
       "    </tr>\n",
       "  </thead>\n",
       "  <tbody>\n",
       "    <tr>\n",
       "      <th>2021-01-01</th>\n",
       "      <td>29376.455078</td>\n",
       "      <td>33155.117188</td>\n",
       "      <td>29091.181641</td>\n",
       "      <td>32127.267578</td>\n",
       "      <td>32127.267578</td>\n",
       "      <td>6.786542e+10</td>\n",
       "    </tr>\n",
       "    <tr>\n",
       "      <th>2021-01-02</th>\n",
       "      <td>32129.408203</td>\n",
       "      <td>34608.558594</td>\n",
       "      <td>32052.316406</td>\n",
       "      <td>32782.023438</td>\n",
       "      <td>32782.023438</td>\n",
       "      <td>7.866524e+10</td>\n",
       "    </tr>\n",
       "    <tr>\n",
       "      <th>2021-01-03</th>\n",
       "      <td>32810.949219</td>\n",
       "      <td>33440.218750</td>\n",
       "      <td>28722.755859</td>\n",
       "      <td>31971.914062</td>\n",
       "      <td>31971.914062</td>\n",
       "      <td>8.116348e+10</td>\n",
       "    </tr>\n",
       "    <tr>\n",
       "      <th>2021-01-04</th>\n",
       "      <td>31977.041016</td>\n",
       "      <td>34437.589844</td>\n",
       "      <td>30221.187500</td>\n",
       "      <td>33992.429688</td>\n",
       "      <td>33992.429688</td>\n",
       "      <td>6.754732e+10</td>\n",
       "    </tr>\n",
       "    <tr>\n",
       "      <th>2021-01-05</th>\n",
       "      <td>34013.613281</td>\n",
       "      <td>36879.699219</td>\n",
       "      <td>33514.035156</td>\n",
       "      <td>36824.363281</td>\n",
       "      <td>36824.363281</td>\n",
       "      <td>7.528943e+10</td>\n",
       "    </tr>\n",
       "  </tbody>\n",
       "</table>\n",
       "</div>"
      ],
      "text/plain": [
       "                    Open          High           Low         Close  \\\n",
       "Date                                                                 \n",
       "2021-01-01  29376.455078  33155.117188  29091.181641  32127.267578   \n",
       "2021-01-02  32129.408203  34608.558594  32052.316406  32782.023438   \n",
       "2021-01-03  32810.949219  33440.218750  28722.755859  31971.914062   \n",
       "2021-01-04  31977.041016  34437.589844  30221.187500  33992.429688   \n",
       "2021-01-05  34013.613281  36879.699219  33514.035156  36824.363281   \n",
       "\n",
       "               Adj Close        Volume  \n",
       "Date                                    \n",
       "2021-01-01  32127.267578  6.786542e+10  \n",
       "2021-01-02  32782.023438  7.866524e+10  \n",
       "2021-01-03  31971.914062  8.116348e+10  \n",
       "2021-01-04  33992.429688  6.754732e+10  \n",
       "2021-01-05  36824.363281  7.528943e+10  "
      ]
     },
     "execution_count": 26,
     "metadata": {},
     "output_type": "execute_result"
    }
   ],
   "source": [
    "bitcoin.shift(-1).head()"
   ]
  },
  {
   "cell_type": "code",
   "execution_count": 27,
   "id": "185de48c",
   "metadata": {},
   "outputs": [
    {
     "data": {
      "text/html": [
       "<div>\n",
       "<style scoped>\n",
       "    .dataframe tbody tr th:only-of-type {\n",
       "        vertical-align: middle;\n",
       "    }\n",
       "\n",
       "    .dataframe tbody tr th {\n",
       "        vertical-align: top;\n",
       "    }\n",
       "\n",
       "    .dataframe thead th {\n",
       "        text-align: right;\n",
       "    }\n",
       "</style>\n",
       "<table border=\"1\" class=\"dataframe\">\n",
       "  <thead>\n",
       "    <tr style=\"text-align: right;\">\n",
       "      <th></th>\n",
       "      <th>Open</th>\n",
       "      <th>High</th>\n",
       "      <th>Low</th>\n",
       "      <th>Close</th>\n",
       "      <th>Adj Close</th>\n",
       "      <th>Volume</th>\n",
       "    </tr>\n",
       "    <tr>\n",
       "      <th>Date</th>\n",
       "      <th></th>\n",
       "      <th></th>\n",
       "      <th></th>\n",
       "      <th></th>\n",
       "      <th></th>\n",
       "      <th></th>\n",
       "    </tr>\n",
       "  </thead>\n",
       "  <tbody>\n",
       "    <tr>\n",
       "      <th>2023-06-17</th>\n",
       "      <td>26510.457031</td>\n",
       "      <td>26675.925781</td>\n",
       "      <td>26325.890625</td>\n",
       "      <td>26336.212891</td>\n",
       "      <td>26336.212891</td>\n",
       "      <td>9.565695e+09</td>\n",
       "    </tr>\n",
       "    <tr>\n",
       "      <th>2023-06-18</th>\n",
       "      <td>26335.441406</td>\n",
       "      <td>26984.611328</td>\n",
       "      <td>26312.832031</td>\n",
       "      <td>26851.029297</td>\n",
       "      <td>26851.029297</td>\n",
       "      <td>1.282699e+10</td>\n",
       "    </tr>\n",
       "    <tr>\n",
       "      <th>2023-06-19</th>\n",
       "      <td>26841.664062</td>\n",
       "      <td>28388.968750</td>\n",
       "      <td>26668.791016</td>\n",
       "      <td>28327.488281</td>\n",
       "      <td>28327.488281</td>\n",
       "      <td>2.221186e+10</td>\n",
       "    </tr>\n",
       "    <tr>\n",
       "      <th>2023-06-20</th>\n",
       "      <td>29976.873047</td>\n",
       "      <td>30219.085938</td>\n",
       "      <td>29933.816406</td>\n",
       "      <td>30181.556641</td>\n",
       "      <td>30181.556641</td>\n",
       "      <td>3.175316e+10</td>\n",
       "    </tr>\n",
       "    <tr>\n",
       "      <th>2023-06-22</th>\n",
       "      <td>NaN</td>\n",
       "      <td>NaN</td>\n",
       "      <td>NaN</td>\n",
       "      <td>NaN</td>\n",
       "      <td>NaN</td>\n",
       "      <td>NaN</td>\n",
       "    </tr>\n",
       "  </tbody>\n",
       "</table>\n",
       "</div>"
      ],
      "text/plain": [
       "                    Open          High           Low         Close  \\\n",
       "Date                                                                 \n",
       "2023-06-17  26510.457031  26675.925781  26325.890625  26336.212891   \n",
       "2023-06-18  26335.441406  26984.611328  26312.832031  26851.029297   \n",
       "2023-06-19  26841.664062  28388.968750  26668.791016  28327.488281   \n",
       "2023-06-20  29976.873047  30219.085938  29933.816406  30181.556641   \n",
       "2023-06-22           NaN           NaN           NaN           NaN   \n",
       "\n",
       "               Adj Close        Volume  \n",
       "Date                                    \n",
       "2023-06-17  26336.212891  9.565695e+09  \n",
       "2023-06-18  26851.029297  1.282699e+10  \n",
       "2023-06-19  28327.488281  2.221186e+10  \n",
       "2023-06-20  30181.556641  3.175316e+10  \n",
       "2023-06-22           NaN           NaN  "
      ]
     },
     "execution_count": 27,
     "metadata": {},
     "output_type": "execute_result"
    }
   ],
   "source": [
    "bitcoin.shift(-1).tail()"
   ]
  },
  {
   "cell_type": "markdown",
   "id": "270da876",
   "metadata": {},
   "source": [
    "We can do a shift using a Time String. "
   ]
  },
  {
   "cell_type": "code",
   "execution_count": 28,
   "id": "d3ae1502",
   "metadata": {},
   "outputs": [
    {
     "data": {
      "text/html": [
       "<div>\n",
       "<style scoped>\n",
       "    .dataframe tbody tr th:only-of-type {\n",
       "        vertical-align: middle;\n",
       "    }\n",
       "\n",
       "    .dataframe tbody tr th {\n",
       "        vertical-align: top;\n",
       "    }\n",
       "\n",
       "    .dataframe thead th {\n",
       "        text-align: right;\n",
       "    }\n",
       "</style>\n",
       "<table border=\"1\" class=\"dataframe\">\n",
       "  <thead>\n",
       "    <tr style=\"text-align: right;\">\n",
       "      <th></th>\n",
       "      <th>Open</th>\n",
       "      <th>High</th>\n",
       "      <th>Low</th>\n",
       "      <th>Close</th>\n",
       "      <th>Adj Close</th>\n",
       "      <th>Volume</th>\n",
       "    </tr>\n",
       "    <tr>\n",
       "      <th>Date</th>\n",
       "      <th></th>\n",
       "      <th></th>\n",
       "      <th></th>\n",
       "      <th></th>\n",
       "      <th></th>\n",
       "      <th></th>\n",
       "    </tr>\n",
       "  </thead>\n",
       "  <tbody>\n",
       "    <tr>\n",
       "      <th>2021-01-02</th>\n",
       "      <td>28994.009766</td>\n",
       "      <td>29600.626953</td>\n",
       "      <td>28803.585938</td>\n",
       "      <td>29374.152344</td>\n",
       "      <td>29374.152344</td>\n",
       "      <td>40730301359</td>\n",
       "    </tr>\n",
       "    <tr>\n",
       "      <th>2021-01-03</th>\n",
       "      <td>29376.455078</td>\n",
       "      <td>33155.117188</td>\n",
       "      <td>29091.181641</td>\n",
       "      <td>32127.267578</td>\n",
       "      <td>32127.267578</td>\n",
       "      <td>67865420765</td>\n",
       "    </tr>\n",
       "    <tr>\n",
       "      <th>2021-01-04</th>\n",
       "      <td>32129.408203</td>\n",
       "      <td>34608.558594</td>\n",
       "      <td>32052.316406</td>\n",
       "      <td>32782.023438</td>\n",
       "      <td>32782.023438</td>\n",
       "      <td>78665235202</td>\n",
       "    </tr>\n",
       "    <tr>\n",
       "      <th>2021-01-05</th>\n",
       "      <td>32810.949219</td>\n",
       "      <td>33440.218750</td>\n",
       "      <td>28722.755859</td>\n",
       "      <td>31971.914062</td>\n",
       "      <td>31971.914062</td>\n",
       "      <td>81163475344</td>\n",
       "    </tr>\n",
       "    <tr>\n",
       "      <th>2021-01-06</th>\n",
       "      <td>31977.041016</td>\n",
       "      <td>34437.589844</td>\n",
       "      <td>30221.187500</td>\n",
       "      <td>33992.429688</td>\n",
       "      <td>33992.429688</td>\n",
       "      <td>67547324782</td>\n",
       "    </tr>\n",
       "  </tbody>\n",
       "</table>\n",
       "</div>"
      ],
      "text/plain": [
       "                    Open          High           Low         Close  \\\n",
       "Date                                                                 \n",
       "2021-01-02  28994.009766  29600.626953  28803.585938  29374.152344   \n",
       "2021-01-03  29376.455078  33155.117188  29091.181641  32127.267578   \n",
       "2021-01-04  32129.408203  34608.558594  32052.316406  32782.023438   \n",
       "2021-01-05  32810.949219  33440.218750  28722.755859  31971.914062   \n",
       "2021-01-06  31977.041016  34437.589844  30221.187500  33992.429688   \n",
       "\n",
       "               Adj Close       Volume  \n",
       "Date                                   \n",
       "2021-01-02  29374.152344  40730301359  \n",
       "2021-01-03  32127.267578  67865420765  \n",
       "2021-01-04  32782.023438  78665235202  \n",
       "2021-01-05  31971.914062  81163475344  \n",
       "2021-01-06  33992.429688  67547324782  "
      ]
     },
     "execution_count": 28,
     "metadata": {},
     "output_type": "execute_result"
    }
   ],
   "source": [
    "bitcoin.shift(periods = 1, freq=\"D\").head()"
   ]
  },
  {
   "cell_type": "markdown",
   "id": "f3733295",
   "metadata": {},
   "source": [
    "The df.shift(periods=1, freq=\"m\") method is used to shift the values of a pandas DataFrame by a specified number of periods according to a given frequency. Here's a detailed explanation of the two parameters:\n",
    "\n",
    "The periods parameter indicates the number of periods (rows) by which you want to shift the values. A positive value will shift the data downwards (towards higher indexes), while a negative value will shift it upwards (towards lower indexes). For example, if you specify periods=1, each value will be shifted down by one row.\n",
    "\n",
    "The freq parameter specifies the frequency of the data in the DataFrame. It can be used to shift temporal data. Possible values include \"D\" (day), \"H\" (hour), \"T\" (minute), \"S\" (second), \"L\" (millisecond), \"M\" (month), \"A\" (year), etc. In this example, the value \"m\" is used to indicate that the data has a monthly frequency.\n",
    "\n",
    "By using df.shift(periods=1, freq=\"m\"), each value in the DataFrame will be shifted down by one period (one month in this case). The first value will be replaced with NaN (undefined) because there is no previous value to shift."
   ]
  },
  {
   "cell_type": "markdown",
   "id": "69311473",
   "metadata": {},
   "source": [
    "<h1><center> Rolling </center></h1>"
   ]
  },
  {
   "cell_type": "code",
   "execution_count": 29,
   "id": "036f7673",
   "metadata": {},
   "outputs": [],
   "source": [
    "import matplotlib.pyplot as plt\n",
    "%matplotlib inline"
   ]
  },
  {
   "cell_type": "code",
   "execution_count": 30,
   "id": "059e0f43",
   "metadata": {},
   "outputs": [
    {
     "data": {
      "image/png": "[encoded data removed]",
      "text/plain": [
       "<Figure size 1700x500 with 1 Axes>"
      ]
     },
     "metadata": {},
     "output_type": "display_data"
    }
   ],
   "source": [
    "bitcoin.Open.plot(figsize=(15,10), color = 'red', label = 'Open price')\n",
    "bitcoin['Close'].plot(figsize=(17,5), color = 'blue', label = 'Close price')\n",
    "plt.legend()\n",
    "plt.show()"
   ]
  },
  {
   "cell_type": "markdown",
   "id": "b3d423e0",
   "metadata": {},
   "source": [
    "Now let's draw only open price representation and add a moving average! This rolling method provides row entries, where each entry is then representative of the period."
   ]
  },
  {
   "cell_type": "code",
   "execution_count": 31,
   "id": "8c339212",
   "metadata": {},
   "outputs": [
    {
     "data": {
      "text/html": [
       "<div>\n",
       "<style scoped>\n",
       "    .dataframe tbody tr th:only-of-type {\n",
       "        vertical-align: middle;\n",
       "    }\n",
       "\n",
       "    .dataframe tbody tr th {\n",
       "        vertical-align: top;\n",
       "    }\n",
       "\n",
       "    .dataframe thead th {\n",
       "        text-align: right;\n",
       "    }\n",
       "</style>\n",
       "<table border=\"1\" class=\"dataframe\">\n",
       "  <thead>\n",
       "    <tr style=\"text-align: right;\">\n",
       "      <th></th>\n",
       "      <th>Open</th>\n",
       "      <th>High</th>\n",
       "      <th>Low</th>\n",
       "      <th>Close</th>\n",
       "      <th>Adj Close</th>\n",
       "      <th>Volume</th>\n",
       "    </tr>\n",
       "    <tr>\n",
       "      <th>Date</th>\n",
       "      <th></th>\n",
       "      <th></th>\n",
       "      <th></th>\n",
       "      <th></th>\n",
       "      <th></th>\n",
       "      <th></th>\n",
       "    </tr>\n",
       "  </thead>\n",
       "  <tbody>\n",
       "    <tr>\n",
       "      <th>2021-01-01</th>\n",
       "      <td>NaN</td>\n",
       "      <td>NaN</td>\n",
       "      <td>NaN</td>\n",
       "      <td>NaN</td>\n",
       "      <td>NaN</td>\n",
       "      <td>NaN</td>\n",
       "    </tr>\n",
       "    <tr>\n",
       "      <th>2021-01-02</th>\n",
       "      <td>NaN</td>\n",
       "      <td>NaN</td>\n",
       "      <td>NaN</td>\n",
       "      <td>NaN</td>\n",
       "      <td>NaN</td>\n",
       "      <td>NaN</td>\n",
       "    </tr>\n",
       "    <tr>\n",
       "      <th>2021-01-03</th>\n",
       "      <td>NaN</td>\n",
       "      <td>NaN</td>\n",
       "      <td>NaN</td>\n",
       "      <td>NaN</td>\n",
       "      <td>NaN</td>\n",
       "      <td>NaN</td>\n",
       "    </tr>\n",
       "    <tr>\n",
       "      <th>2021-01-04</th>\n",
       "      <td>NaN</td>\n",
       "      <td>NaN</td>\n",
       "      <td>NaN</td>\n",
       "      <td>NaN</td>\n",
       "      <td>NaN</td>\n",
       "      <td>NaN</td>\n",
       "    </tr>\n",
       "    <tr>\n",
       "      <th>2021-01-05</th>\n",
       "      <td>NaN</td>\n",
       "      <td>NaN</td>\n",
       "      <td>NaN</td>\n",
       "      <td>NaN</td>\n",
       "      <td>NaN</td>\n",
       "      <td>NaN</td>\n",
       "    </tr>\n",
       "    <tr>\n",
       "      <th>2021-01-06</th>\n",
       "      <td>NaN</td>\n",
       "      <td>NaN</td>\n",
       "      <td>NaN</td>\n",
       "      <td>NaN</td>\n",
       "      <td>NaN</td>\n",
       "      <td>NaN</td>\n",
       "    </tr>\n",
       "    <tr>\n",
       "      <th>2021-01-07</th>\n",
       "      <td>32305.050223</td>\n",
       "      <td>34614.596819</td>\n",
       "      <td>31270.893415</td>\n",
       "      <td>33777.599051</td>\n",
       "      <td>33777.599051</td>\n",
       "      <td>7.086048e+10</td>\n",
       "    </tr>\n",
       "    <tr>\n",
       "      <th>2021-01-08</th>\n",
       "      <td>33789.015346</td>\n",
       "      <td>36378.327009</td>\n",
       "      <td>32418.757812</td>\n",
       "      <td>35409.521484</td>\n",
       "      <td>35409.521484</td>\n",
       "      <td>7.762865e+10</td>\n",
       "    </tr>\n",
       "    <tr>\n",
       "      <th>2021-01-09</th>\n",
       "      <td>35419.327567</td>\n",
       "      <td>37561.360491</td>\n",
       "      <td>33831.571150</td>\n",
       "      <td>36570.561384</td>\n",
       "      <td>36570.561384</td>\n",
       "      <td>7.678847e+10</td>\n",
       "    </tr>\n",
       "    <tr>\n",
       "      <th>2021-01-10</th>\n",
       "      <td>36580.014788</td>\n",
       "      <td>38534.450893</td>\n",
       "      <td>34393.330078</td>\n",
       "      <td>37366.906808</td>\n",
       "      <td>37366.906808</td>\n",
       "      <td>7.697640e+10</td>\n",
       "    </tr>\n",
       "  </tbody>\n",
       "</table>\n",
       "</div>"
      ],
      "text/plain": [
       "                    Open          High           Low         Close  \\\n",
       "Date                                                                 \n",
       "2021-01-01           NaN           NaN           NaN           NaN   \n",
       "2021-01-02           NaN           NaN           NaN           NaN   \n",
       "2021-01-03           NaN           NaN           NaN           NaN   \n",
       "2021-01-04           NaN           NaN           NaN           NaN   \n",
       "2021-01-05           NaN           NaN           NaN           NaN   \n",
       "2021-01-06           NaN           NaN           NaN           NaN   \n",
       "2021-01-07  32305.050223  34614.596819  31270.893415  33777.599051   \n",
       "2021-01-08  33789.015346  36378.327009  32418.757812  35409.521484   \n",
       "2021-01-09  35419.327567  37561.360491  33831.571150  36570.561384   \n",
       "2021-01-10  36580.014788  38534.450893  34393.330078  37366.906808   \n",
       "\n",
       "               Adj Close        Volume  \n",
       "Date                                    \n",
       "2021-01-01           NaN           NaN  \n",
       "2021-01-02           NaN           NaN  \n",
       "2021-01-03           NaN           NaN  \n",
       "2021-01-04           NaN           NaN  \n",
       "2021-01-05           NaN           NaN  \n",
       "2021-01-06           NaN           NaN  \n",
       "2021-01-07  33777.599051  7.086048e+10  \n",
       "2021-01-08  35409.521484  7.762865e+10  \n",
       "2021-01-09  36570.561384  7.678847e+10  \n",
       "2021-01-10  37366.906808  7.697640e+10  "
      ]
     },
     "execution_count": 31,
     "metadata": {},
     "output_type": "execute_result"
    }
   ],
   "source": [
    "bitcoin.rolling(7).mean().head(10)"
   ]
  },
  {
   "cell_type": "code",
   "execution_count": 33,
   "id": "7bef606c",
   "metadata": {},
   "outputs": [
    {
     "data": {
      "image/png": "[encoded data removed]",
      "text/plain": [
       "<Figure size 1500x1000 with 1 Axes>"
      ]
     },
     "metadata": {},
     "output_type": "display_data"
    }
   ],
   "source": [
    "bitcoin['Open'].plot(figsize = (15,10), color = 'red', label = 'Open price')\n",
    "bitcoin.rolling(window=30).mean()['Close'].plot(color = 'blue', label = 'moving average')\n",
    "plt.legend()\n",
    "plt.show()"
   ]
  },
  {
   "cell_type": "code",
   "execution_count": null,
   "id": "9087f8c5",
   "metadata": {},
   "outputs": [],
   "source": []
  }
 ],
 "metadata": {
  "kernelspec": {
   "display_name": "Python 3 (ipykernel)",
   "language": "python",
   "name": "python3"
  },
  "language_info": {
   "codemirror_mode": {
    "name": "ipython",
    "version": 3
   },
   "file_extension": ".py",
   "mimetype": "text/x-python",
   "name": "python",
   "nbconvert_exporter": "python",
   "pygments_lexer": "ipython3",
   "version": "3.10.9"
  }
 },
 "nbformat": 4,
 "nbformat_minor": 5
}
